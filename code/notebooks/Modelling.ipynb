{
 "cells": [
  {
   "cell_type": "code",
   "execution_count": 10,
   "metadata": {},
   "outputs": [
    {
     "name": "stdout",
     "output_type": "stream",
     "text": [
      "The autoreload extension is already loaded. To reload it, use:\n",
      "  %reload_ext autoreload\n"
     ]
    }
   ],
   "source": [
    "import tensorflow as tf\n",
    "from tensorflow.python.ops.rnn import _transpose_batch_time\n",
    "\n",
    "from datetime import datetime\n",
    "import numpy as np\n",
    "import pandas as pd\n",
    "import glob, os, sys, math, warnings\n",
    "import matplotlib.pyplot as plt\n",
    "import copy, time, glob, os, sys\n",
    "os.environ[\"TF_CPP_MIN_LOG_LEVEL\"]=\"3\"\n",
    "\n",
    "# customized ftns \n",
    "from helpers import *\n",
    "from utilities import *\n",
    "from model import rnn_horizon\n",
    "# ---------------------------------------------------------\n",
    "%matplotlib inline\n",
    "%load_ext autoreload\n",
    "%autoreload 2\n",
    "warnings.filterwarnings('ignore')\n",
    "# warnings.filterwarnings(action='once')\n",
    "# ---------------------------------------------------------\n",
    "# directories\n",
    "main_dir = '../'\n",
    "game_dir = main_dir+'data/'\n",
    "Data = LoadData(main_dir, game_dir)"
   ]
  },
  {
   "cell_type": "markdown",
   "metadata": {},
   "source": [
    "#### Load raw data"
   ]
  },
  {
   "cell_type": "code",
   "execution_count": 2,
   "metadata": {},
   "outputs": [
    {
     "name": "stdout",
     "output_type": "stream",
     "text": [
      "raw events shape: (231, 8)\n"
     ]
    },
    {
     "data": {
      "text/html": [
       "<div>\n",
       "<style scoped>\n",
       "    .dataframe tbody tr th:only-of-type {\n",
       "        vertical-align: middle;\n",
       "    }\n",
       "\n",
       "    .dataframe tbody tr th {\n",
       "        vertical-align: top;\n",
       "    }\n",
       "\n",
       "    .dataframe thead th {\n",
       "        text-align: right;\n",
       "    }\n",
       "</style>\n",
       "<table border=\"1\" class=\"dataframe\">\n",
       "  <thead>\n",
       "    <tr style=\"text-align: right;\">\n",
       "      <th></th>\n",
       "      <th>end_time_left</th>\n",
       "      <th>home</th>\n",
       "      <th>moments</th>\n",
       "      <th>orig_events</th>\n",
       "      <th>playbyplay</th>\n",
       "      <th>quarter</th>\n",
       "      <th>start_time_left</th>\n",
       "      <th>visitor</th>\n",
       "    </tr>\n",
       "  </thead>\n",
       "  <tbody>\n",
       "    <tr>\n",
       "      <th>0</th>\n",
       "      <td>702.31</td>\n",
       "      <td>{'abbreviation': 'CHI', 'players': [{'playerid...</td>\n",
       "      <td>[[1, 1451351428029, 708.28, 12.78, None, [[-1,...</td>\n",
       "      <td>[0]</td>\n",
       "      <td>GAME_ID  EVENTNUM  EVENTMSGTYPE  EVENTMS...</td>\n",
       "      <td>1</td>\n",
       "      <td>708.28</td>\n",
       "      <td>{'abbreviation': 'TOR', 'players': [{'playerid...</td>\n",
       "    </tr>\n",
       "    <tr>\n",
       "      <th>1</th>\n",
       "      <td>686.28</td>\n",
       "      <td>{'abbreviation': 'CHI', 'players': [{'playerid...</td>\n",
       "      <td>[[1, 1451351428029, 708.28, 12.78, None, [[-1,...</td>\n",
       "      <td>[1]</td>\n",
       "      <td>GAME_ID  EVENTNUM  EVENTMSGTYPE  EVENTMS...</td>\n",
       "      <td>1</td>\n",
       "      <td>708.28</td>\n",
       "      <td>{'abbreviation': 'TOR', 'players': [{'playerid...</td>\n",
       "    </tr>\n",
       "    <tr>\n",
       "      <th>2</th>\n",
       "      <td>668.42</td>\n",
       "      <td>{'abbreviation': 'CHI', 'players': [{'playerid...</td>\n",
       "      <td>[[1, 1451351444029, 692.25, 12.21, None, [[-1,...</td>\n",
       "      <td>[2, 3]</td>\n",
       "      <td>GAME_ID  EVENTNUM  EVENTMSGTYPE  EVENTMS...</td>\n",
       "      <td>1</td>\n",
       "      <td>692.25</td>\n",
       "      <td>{'abbreviation': 'TOR', 'players': [{'playerid...</td>\n",
       "    </tr>\n",
       "  </tbody>\n",
       "</table>\n",
       "</div>"
      ],
      "text/plain": [
       "   end_time_left                                               home  \\\n",
       "0         702.31  {'abbreviation': 'CHI', 'players': [{'playerid...   \n",
       "1         686.28  {'abbreviation': 'CHI', 'players': [{'playerid...   \n",
       "2         668.42  {'abbreviation': 'CHI', 'players': [{'playerid...   \n",
       "\n",
       "                                             moments orig_events  \\\n",
       "0  [[1, 1451351428029, 708.28, 12.78, None, [[-1,...         [0]   \n",
       "1  [[1, 1451351428029, 708.28, 12.78, None, [[-1,...         [1]   \n",
       "2  [[1, 1451351444029, 692.25, 12.21, None, [[-1,...      [2, 3]   \n",
       "\n",
       "                                          playbyplay  quarter  \\\n",
       "0        GAME_ID  EVENTNUM  EVENTMSGTYPE  EVENTMS...        1   \n",
       "1        GAME_ID  EVENTNUM  EVENTMSGTYPE  EVENTMS...        1   \n",
       "2        GAME_ID  EVENTNUM  EVENTMSGTYPE  EVENTMS...        1   \n",
       "\n",
       "   start_time_left                                            visitor  \n",
       "0           708.28  {'abbreviation': 'TOR', 'players': [{'playerid...  \n",
       "1           708.28  {'abbreviation': 'TOR', 'players': [{'playerid...  \n",
       "2           692.25  {'abbreviation': 'TOR', 'players': [{'playerid...  "
      ]
     },
     "execution_count": 2,
     "metadata": {},
     "output_type": "execute_result"
    }
   ],
   "source": [
    "# %%time\n",
    "game_id = '0021500463'\n",
    "game_data = Data.load_game(game_id)\n",
    "events_df = pd.DataFrame(game_data['events'])\n",
    "print('raw events shape:', events_df.shape)\n",
    "events_df.head(3)"
   ]
  },
  {
   "cell_type": "markdown",
   "metadata": {},
   "source": [
    "#### Get some suplementary data"
   ]
  },
  {
   "cell_type": "code",
   "execution_count": 3,
   "metadata": {
    "collapsed": true
   },
   "outputs": [],
   "source": [
    "# play id to play roles/positions\n",
    "id_role = id_position(events_df)\n",
    "check_game_roles_duplicates(id_role)\n",
    "\n",
    "# we will use this fixed order as the role order\n",
    "roles = ['F', 'G', 'C-F', 'G-F', 'F-G', 'C', 'F-C']\n",
    "role_order = {'F': 0, 'G':4, 'C-F':1, 'G-F':3, 'F-G':3, 'C':2, 'F-C':1}\n",
    "\n",
    "# its possible that F has similar role as G-f or F-G, we create empty slots to ensure meta order\n",
    "# ddentify defending and offending runs (this is included in process_moments)\n",
    "court_index = Data.load_csv('./meta_data/court_index.csv')\n",
    "court_index = dict(zip(court_index.game_id, court_index.court_position))\n",
    "\n",
    "# home and visitor ids\n",
    "homeid = events_df.loc[0].home['teamid']\n",
    "awayid = events_df.loc[0].visitor['teamid']"
   ]
  },
  {
   "cell_type": "markdown",
   "metadata": {},
   "source": [
    "#### Pre-process \n",
    "filter events, subsample frames, add velocity, reorder moments, re-arrange team order\n",
    "shot clock, filter out event with short moments"
   ]
  },
  {
   "cell_type": "code",
   "execution_count": 4,
   "metadata": {},
   "outputs": [
    {
     "name": "stdout",
     "output_type": "stream",
     "text": [
      "After filtering events has shape: (134, 8)\n",
      "Final number of events: 165\n"
     ]
    }
   ],
   "source": [
    "# filter out actions except 1: Make, 2: Miss, 4: Rebound, 6:Personal Foul, 7:Violation\n",
    "use_event = [1, 2, 4, 6, 7]\n",
    "discard_event = [3, 5, 8, 9, 10, 12, 13, 18]\n",
    "events = filter_event_type(events_df, discard_event)\n",
    "print('After filtering events has shape:', events.shape)\n",
    "# break up sequences at 24secs shot clock point (or irregular case, e.g. out of bound maybe),\n",
    "# and obtain the game data\n",
    "# subsample_factor = 0\n",
    "# single_game = get_game_data(events, id_role, role_order, court_index, game_id, \n",
    "#                             event_threshold=10, subsample_factor=subsample_factor)\n",
    "# print('Final number of events:', len(single_game))\n",
    "subsample_factor = 0\n",
    "single_game = get_game_data_ra(events, court_index, game_id, event_threshold=10, subsample_factor=subsample_factor)\n",
    "print('Final number of events:', len(single_game))\n",
    "\n",
    "# get velocity\n",
    "fs_base = 1./25 # 1/25 sec/frame   or  25 frames/sec\n",
    "fs = fs_base * subsample_factor if subsample_factor != 0 else fs_base\n",
    "single_game_velocity = [get_velocity(i, fs) for i in single_game]\n",
    "# also drop the last row in positions due to the last row drop on velocity\n",
    "single_game = [i[:-1, :] for i in single_game]\n",
    "n_events = len(single_game)"
   ]
  },
  {
   "cell_type": "code",
   "execution_count": 5,
   "metadata": {},
   "outputs": [
    {
     "data": {
      "text/plain": [
       "(37, 20)"
      ]
     },
     "execution_count": 5,
     "metadata": {},
     "output_type": "execute_result"
    }
   ],
   "source": [
    "single_game[0].shape"
   ]
  },
  {
   "cell_type": "code",
   "execution_count": 6,
   "metadata": {},
   "outputs": [
    {
     "data": {
      "text/plain": [
       "(37, 20)"
      ]
     },
     "execution_count": 6,
     "metadata": {},
     "output_type": "execute_result"
    }
   ],
   "source": [
    "single_game_velocity[0].shape"
   ]
  },
  {
   "cell_type": "markdown",
   "metadata": {},
   "source": [
    "#### Role assignment and reorder moment"
   ]
  },
  {
   "cell_type": "code",
   "execution_count": 7,
   "metadata": {
    "collapsed": true
   },
   "outputs": [],
   "source": [
    "# first prepare data\n",
    "n_defend = 5\n",
    "n_offend = 5\n",
    "# length for each moment\n",
    "event_lengths = np.array([len(i) for i in single_game])\n",
    "# repeat the event_lengths 5 times in order to match the unstack later on with moments\n",
    "event_lengths_repeat = np.concatenate([event_lengths for _ in range(n_defend)], axis=0)\n",
    "# all the moments\n",
    "all_moments = np.concatenate(single_game, axis=0)\n",
    "all_moments_vel = np.concatenate(single_game_velocity, axis=0) # vel\n",
    "# we only need the first 5 players x,y coordindates\n",
    "# defend\n",
    "all_defend_moments = all_moments[:, :2*n_defend]\n",
    "# all_defend_moments_vel = all_moments_vel[:, :2*n_defend]\n",
    "# offend\n",
    "all_offend_moments = all_moments[:, 2*n_offend:]\n",
    "# all_offend_moments_vel = all_moments_vel[:, 2*n_offend:]\n",
    "\n",
    "# flattened\n",
    "all_defend_moments_ = np.concatenate([all_defend_moments[:, i:i+2] for i in range(0, 2*n_defend, 2)], axis=0)\n",
    "all_offend_moments_ = np.concatenate([all_offend_moments[:, i:i+2] for i in range(0, 2*n_offend, 2)], axis=0)\n",
    "\n",
    "# all_defend_moments_vel_ = np.concatenate([all_defend_moments_vel[:, i:i+2] for i in range(0, 2*n_defend, 2)], axis=0)\n",
    "# all_offend_moments_vel_ = np.concatenate([all_offend_moments_vel[:, i:i+2] for i in range(0, 2*n_offend, 2)], axis=0)"
   ]
  },
  {
   "cell_type": "code",
   "execution_count": 8,
   "metadata": {
    "collapsed": true
   },
   "outputs": [],
   "source": [
    "# create hmm model\n",
    "n_comp = 7\n",
    "n_mix = None\n",
    "RA = RoleAssignment()"
   ]
  },
  {
   "cell_type": "code",
   "execution_count": 11,
   "metadata": {
    "scrolled": true
   },
   "outputs": [
    {
     "name": "stderr",
     "output_type": "stream",
     "text": [
      "         1     -758293.8255             +nan\n",
      "         2     -697818.9060      +60474.9195\n",
      "         3     -642500.8382      +55318.0678\n",
      "         4     -594606.3740      +47894.4641\n",
      "         5     -557714.4430      +36891.9310\n",
      "         6     -550955.0586       +6759.3844\n",
      "         7     -550083.8253        +871.2333\n",
      "         8     -549699.8460        +383.9794\n",
      "         9     -549495.9155        +203.9305\n",
      "        10     -549403.5530         +92.3625\n",
      "        11     -549349.8360         +53.7170\n",
      "        12     -549302.4177         +47.4183\n",
      "        13     -549263.6027         +38.8150\n",
      "        14     -549243.3737         +20.2290\n",
      "        15     -549235.7952          +7.5784\n",
      "        16     -549233.1330          +2.6623\n",
      "        17     -549231.9974          +1.1355\n",
      "        18     -549231.3361          +0.6613\n",
      "        19     -549230.8004          +0.5357\n",
      "        20     -549230.2625          +0.5379\n",
      "        21     -549229.6947          +0.5678\n",
      "        22     -549229.1388          +0.5559\n",
      "        23     -549228.6665          +0.4723\n",
      "        24     -549228.3164          +0.3501\n",
      "        25     -549228.0727          +0.2437\n",
      "        26     -549227.9003          +0.1724\n",
      "        27     -549227.7715          +0.1288\n",
      "        28     -549227.6696          +0.1019\n",
      "        29     -549227.5851          +0.0845\n",
      "        30     -549227.5125          +0.0726\n",
      "        31     -549227.4483          +0.0642\n",
      "        32     -549227.3902          +0.0581\n",
      "        33     -549227.3367          +0.0535\n",
      "        34     -549227.2868          +0.0499\n",
      "        35     -549227.2397          +0.0471\n",
      "        36     -549227.1952          +0.0445\n",
      "        37     -549227.1531          +0.0421\n",
      "        38     -549227.1135          +0.0395\n",
      "        39     -549227.0768          +0.0368\n",
      "        40     -549227.0431          +0.0337\n",
      "        41     -549227.0126          +0.0304\n",
      "        42     -549226.9856          +0.0270\n",
      "        43     -549226.9620          +0.0236\n",
      "        44     -549226.9417          +0.0203\n",
      "        45     -549226.9244          +0.0173\n",
      "        46     -549226.9099          +0.0145\n",
      "        47     -549226.8977          +0.0121\n",
      "        48     -549226.8877          +0.0101\n",
      "        49     -549226.8794          +0.0083\n",
      "         1     -848447.6099             +nan\n",
      "         2     -783072.3899      +65375.2200\n",
      "         3     -720568.1534      +62504.2365\n",
      "         4     -667556.9020      +53011.2514\n",
      "         5     -639088.7990      +28468.1029\n",
      "         6     -626478.6383      +12610.1608\n",
      "         7     -623199.2671       +3279.3711\n",
      "         8     -621271.0170       +1928.2502\n",
      "         9     -619928.1924       +1342.8246\n",
      "        10     -618906.7749       +1021.4175\n",
      "        11     -617665.8878       +1240.8871\n",
      "        12     -616798.4651        +867.4227\n",
      "        13     -616383.4821        +414.9830\n",
      "        14     -616003.6674        +379.8147\n",
      "        15     -615790.5140        +213.1534\n",
      "        16     -615594.8581        +195.6559\n",
      "        17     -615398.9241        +195.9340\n",
      "        18     -615286.5047        +112.4193\n",
      "        19     -615207.2397         +79.2650\n",
      "        20     -615150.8338         +56.4060\n",
      "        21     -615102.6805         +48.1532\n",
      "        22     -615063.2296         +39.4509\n",
      "        23     -615023.8818         +39.3478\n",
      "        24     -614991.9145         +31.9673\n",
      "        25     -614967.8894         +24.0251\n",
      "        26     -614955.3071         +12.5823\n",
      "        27     -614944.5780         +10.7291\n",
      "        28     -614923.4787         +21.0993\n",
      "        29     -614905.2423         +18.2364\n",
      "        30     -614891.7972         +13.4451\n",
      "        31     -614881.1379         +10.6593\n",
      "        32     -614869.9938         +11.1441\n",
      "        33     -614864.1657          +5.8282\n",
      "        34     -614861.4568          +2.7089\n",
      "        35     -614860.0813          +1.3755\n",
      "        36     -614859.3534          +0.7279\n",
      "        37     -614858.9401          +0.4132\n",
      "        38     -614858.6808          +0.2594\n",
      "        39     -614858.4984          +0.1824\n",
      "        40     -614858.3541          +0.1443\n",
      "        41     -614858.2254          +0.1287\n",
      "        42     -614858.0961          +0.1293\n",
      "        43     -614857.9509          +0.1452\n",
      "        44     -614857.7727          +0.1782\n",
      "        45     -614857.5434          +0.2293\n",
      "        46     -614857.2542          +0.2892\n",
      "        47     -614856.9243          +0.3299\n",
      "        48     -614856.6036          +0.3207\n",
      "        49     -614856.3408          +0.2627\n",
      "        50     -614856.1540          +0.1869\n"
     ]
    }
   ],
   "source": [
    "# train\n",
    "defend_state_sequence_, defend_means, defend_covs = RA.train_hmm(all_defend_moments_, event_lengths_repeat, n_comp, n_mix)\n",
    "offend_state_sequence_, offend_means, offend_covs= RA.train_hmm(all_offend_moments_, event_lengths_repeat, n_comp, n_mix)\n",
    "# get role orders\n",
    "_, defend_roles = RA.assign_roles(all_defend_moments_, all_defend_moments, defend_means, event_lengths)\n",
    "_, offend_roles = RA.assign_roles(all_offend_moments_, all_offend_moments, offend_means, event_lengths)"
   ]
  },
  {
   "cell_type": "code",
   "execution_count": 12,
   "metadata": {
    "collapsed": true
   },
   "outputs": [],
   "source": [
    "defend_pos = order_moment_ra([i[:, :10] for i in single_game], defend_roles)\n",
    "defend_vel = order_moment_ra([i[:, :10] for i in single_game_velocity], defend_roles)"
   ]
  },
  {
   "cell_type": "code",
   "execution_count": 13,
   "metadata": {},
   "outputs": [],
   "source": [
    "offend_pos = order_moment_ra([i[:, 10:] for i in single_game], offend_roles)\n",
    "offend_vel = order_moment_ra([i[:, 10:] for i in single_game_velocity], offend_roles)"
   ]
  },
  {
   "cell_type": "code",
   "execution_count": 17,
   "metadata": {},
   "outputs": [],
   "source": [
    "single_game = [np.concatenate([defend_pos[i], offend_pos[i], defend_vel[i], offend_vel[i]], axis=1) for i in range(n_events)]"
   ]
  },
  {
   "cell_type": "code",
   "execution_count": 18,
   "metadata": {},
   "outputs": [
    {
     "data": {
      "text/plain": [
       "(37, 56)"
      ]
     },
     "execution_count": 18,
     "metadata": {},
     "output_type": "execute_result"
    }
   ],
   "source": [
    "single_game[0].shape"
   ]
  },
  {
   "cell_type": "markdown",
   "metadata": {},
   "source": [
    "#### Show the plot, for the sake of comparison with processed moment later on"
   ]
  },
  {
   "cell_type": "code",
   "execution_count": null,
   "metadata": {
    "scrolled": false
   },
   "outputs": [],
   "source": [
    "# Plot = PlotGame(game_id, main_dir, game_dir)\n",
    "# # for i in range(plotn): \n",
    "# Plot.load_moment2img(game_data, event_number=0, moment_number=0, return_img=True)"
   ]
  },
  {
   "cell_type": "code",
   "execution_count": null,
   "metadata": {},
   "outputs": [],
   "source": [
    "# # manual plot check\n",
    "# plot_check(single_game, plt_ind=0)"
   ]
  },
  {
   "cell_type": "markdown",
   "metadata": {},
   "source": [
    "#### Create label, train and test set"
   ]
  },
  {
   "cell_type": "code",
   "execution_count": 19,
   "metadata": {
    "collapsed": true
   },
   "outputs": [],
   "source": [
    "sequence_length = 30\n",
    "overlap = 15\n",
    "# pad short sequence and chunk long sequence with overlaps\n",
    "train, target = get_sequences(single_game, sequence_length, overlap)"
   ]
  },
  {
   "cell_type": "code",
   "execution_count": 20,
   "metadata": {
    "collapsed": true
   },
   "outputs": [],
   "source": [
    "# create train and test set\n",
    "p = 0.8 # train percentage\n",
    "divider = int(len(train)*p)\n",
    "train_game, test_game = train[:divider], train[divider:]\n",
    "train_target, test_target = target[:divider], target[divider:]"
   ]
  },
  {
   "cell_type": "code",
   "execution_count": 21,
   "metadata": {},
   "outputs": [
    {
     "data": {
      "text/plain": [
       "(1067, 267)"
      ]
     },
     "execution_count": 21,
     "metadata": {},
     "output_type": "execute_result"
    }
   ],
   "source": [
    "len(train_game), len(test_game)"
   ]
  },
  {
   "cell_type": "code",
   "execution_count": 22,
   "metadata": {},
   "outputs": [
    {
     "data": {
      "text/plain": [
       "(29, 56)"
      ]
     },
     "execution_count": 22,
     "metadata": {},
     "output_type": "execute_result"
    }
   ],
   "source": [
    "train_game[0].shape"
   ]
  },
  {
   "cell_type": "markdown",
   "metadata": {},
   "source": [
    "#### Build graph and starts training"
   ]
  },
  {
   "cell_type": "code",
   "execution_count": 50,
   "metadata": {
    "scrolled": true
   },
   "outputs": [
    {
     "name": "stdout",
     "output_type": "stream",
     "text": [
      "output shape, last_states (32, 29, 2) (LSTMStateTuple(c=<tf.Tensor 'rnn/while/Exit_3:0' shape=(32, 128) dtype=float32>, h=<tf.Tensor 'rnn/while/Exit_4:0' shape=(32, 128) dtype=float32>), LSTMStateTuple(c=<tf.Tensor 'rnn/while/Exit_5:0' shape=(32, 128) dtype=float32>, h=<tf.Tensor 'rnn/while/Exit_6:0' shape=(32, 128) dtype=float32>))\n",
      "label shape:(32, 29, 2) | output prediction shape: (32, 29, 2)\n",
      "Horizon Tensor(\"Placeholder_1:0\", dtype=int32) ==========\n",
      "Epoch 0    | loss: 185.38   | time took: 2.41s | validation loss: 85.10   \n",
      "Epoch 100  | loss: 22.46    | time took: 1.72s | validation loss: 22.19   \n",
      "Epoch 200  | loss: 13.89    | time took: 1.75s | validation loss: 16.01   \n",
      "Epoch 300  | loss: 14.97    | time took: 1.78s | validation loss: 16.16   \n",
      "Epoch 400  | loss: 15.09    | time took: 2.00s | validation loss: 15.72   \n",
      "Epoch 500  | loss: 43.27    | time took: 1.85s | validation loss: 58.43   \n",
      "Epoch 600  | loss: 14.46    | time took: 2.43s | validation loss: 14.87   \n",
      "Epoch 700  | loss: 20.68    | time took: 1.76s | validation loss: 19.44   \n",
      "Epoch 800  | loss: 12.02    | time took: 1.72s | validation loss: 13.52   \n",
      "Epoch 900  | loss: 17.12    | time took: 2.01s | validation loss: 17.23   \n",
      "Total time took: 0.55hrs\n"
     ]
    }
   ],
   "source": [
    "tf.reset_default_graph()\n",
    "# use training start time as the unique naming\n",
    "train_time = datetime.now().strftime('%Y_%m_%d_%H_%M_%S')\n",
    "logs_path = './train_logs/'\n",
    "\n",
    "# hyper-parameters\n",
    "# num_layers = 2\n",
    "state_size = 128\n",
    "batch_size = 32\n",
    "dimx = 56\n",
    "dimy = 2\n",
    "learning_rate = 0.01\n",
    "n_epoch = int(1e3)\n",
    "true_seq_len = sequence_length-1\n",
    "\n",
    "# lstm cells\n",
    "lstm1 = tf.contrib.rnn.BasicLSTMCell(state_size, forget_bias=1.)\n",
    "# lstm1 = tf.nn.rnn_cell.DropoutWrapper(lstm1, output_keep_prob=0.8)\n",
    "\n",
    "lstm2 = tf.contrib.rnn.BasicLSTMCell(state_size, forget_bias=1.)\n",
    "# lstm2 = tf.nn.rnn_cell.DropoutWrapper(lstm2, output_keep_prob=0.8)\n",
    "\n",
    "lstm_cell = tf.contrib.rnn.MultiRNNCell([lstm1, lstm2])\n",
    "\n",
    "# a single lstm layer\n",
    "# lstm_cell = tf.contrib.rnn.BasicLSTMCell(state_size, forget_bias=1.)\n",
    "# lstm_cell = tf.nn.rnn_cell.DropoutWrapper(lstm_cell, output_keep_prob=0.7)\n",
    "\n",
    "# initial state\n",
    "initial_state = lstm_cell.zero_state(batch_size, dtype=tf.float32)\n",
    "\n",
    "# input placeholders\n",
    "h = tf.placeholder(tf.int32)\n",
    "seq_len = tf.placeholder(tf.int32)\n",
    "# X = tf.placeholder(tf.float32, [batch_size, None, dimx], name = 'train_input')\n",
    "# Y = tf.placeholder(tf.float32, [batch_size, None, dimy], name = 'train_label')\n",
    "X = tf.placeholder(tf.float32, [batch_size, true_seq_len, dimx], name = 'train_input')\n",
    "Y = tf.placeholder(tf.float32, [batch_size, true_seq_len, dimy], name = 'train_label')\n",
    "# rnn structure\n",
    "# output, last_states = rnn_horizon(cell = lstm_cell, \n",
    "#                                   initial_state = initial_state, \n",
    "#                                   input_ = X,\n",
    "#                                   batch_size = batch_size,\n",
    "#                                   seq_lengths = seq_len,\n",
    "#                                   horizon = h,\n",
    "#                                   output_dim = dimy)\n",
    "\n",
    "output1, last_states = tf.nn.dynamic_rnn(cell=lstm_cell,\n",
    "                                        inputs = X,\n",
    "                                        sequence_length=seq_len,\n",
    "                                        initial_state=initial_state)\n",
    "\n",
    "output = tf.contrib.layers.fully_connected(inputs=output1, num_outputs=dimy)\n",
    "# output as the prediction\n",
    "print('output shape, last_states', output.shape, last_states)\n",
    "pred = output\n",
    "print('label shape:{0:} | output prediction shape: {1:}'.format(Y.shape, pred.shape))\n",
    "\n",
    "# tensorboard's graph visualization more convenient\n",
    "with tf.name_scope('MSEloss'):\n",
    "    # loss (also add regularization on params)\n",
    "    tv = tf.trainable_variables()\n",
    "    # l2 weight loss\n",
    "#     regularization_cost = tf.reduce_sum([tf.nn.l2_loss(v) for v in tv])\n",
    "    # l1 loss\n",
    "    l1_regularizer = tf.contrib.layers.l1_regularizer(scale=0.005, scope=None)\n",
    "    regularization_cost = tf.contrib.layers.apply_regularization(l1_regularizer, tv)\n",
    "\n",
    "    loss = tf.losses.mean_squared_error(Y, pred) + regularization_cost\n",
    "    \n",
    "    # no weight loss\n",
    "#     loss = tf.losses.mean_squared_error(Y, pred)\n",
    "\n",
    "with tf.name_scope('Adam'):\n",
    "    # optimzier\n",
    "    opt = tf.train.AdamOptimizer(learning_rate).minimize(loss)\n",
    "    \n",
    "# initialize variables\n",
    "init = tf.global_variables_initializer()\n",
    "# create a summary to monitor cost tensor\n",
    "train_summary = tf.summary.scalar(\"TrainMSEloss\", loss)\n",
    "valid_summary = tf.summary.scalar(\"ValidMSEloss\", loss)\n",
    "# # Merge all summaries into a single op\n",
    "# merged_summary_op = tf.summary.merge_all()\n",
    "\n",
    "\n",
    "# session\n",
    "sess = tf.Session(config=tf.ConfigProto(log_device_placement=True))\n",
    "# initializing the variables\n",
    "sess.run(init)\n",
    "# op to write logs to Tensorboard\n",
    "train_writer = tf.summary.FileWriter(logs_path+'/train'+train_time, graph=tf.get_default_graph())\n",
    "valid_writer = tf.summary.FileWriter(logs_path+'/valid'+train_time, graph=tf.get_default_graph())\n",
    "\n",
    "# ===============================================================================================\n",
    "\n",
    "# start training\n",
    "printn = int(1e2)    # how many epochs we print\n",
    "# horizon = [2, 4, 8, 12, 16, 20, 25]\n",
    "horizon = [1]\n",
    "t_int = time.time()\n",
    "train_step = 0\n",
    "valid_step = 0\n",
    "for k in horizon:\n",
    "    # look-ahead horizon\n",
    "#     seq_len = horizon[k]\n",
    "#     seq_len =  # because we dropped one when creating targets\n",
    "    print('Horizon {0:} {1:}'.format(seq_len, '='*10))\n",
    "\n",
    "    for epoch in range(n_epoch):\n",
    "        epoch_loss =0.\n",
    "        # number of train batches\n",
    "        n_train_batch = len(train_game)//batch_size\n",
    "        t1 = time.time()\n",
    "        for batch in iterate_minibatches(train_game, train_target, batch_size, shuffle=False):\n",
    "            train_xi, train_yi = batch\n",
    "            p, l, _, train_sum = sess.run([output, loss, opt, train_summary], \n",
    "                                          feed_dict={X: train_xi, Y: train_yi, \n",
    "                                                     seq_len:true_seq_len,\n",
    "                                                     h: 2})\n",
    "            train_writer.add_summary(train_sum, train_step)\n",
    "            epoch_loss += l/n_train_batch\n",
    "            train_step += 1\n",
    "        # print out info\n",
    "        if epoch%printn ==0:\n",
    "            # number of validation batches\n",
    "            n_val_batch = len(test_game)//batch_size\n",
    "            t2 = time.time()\n",
    "            valid_loss = 0\n",
    "            for test_batch in iterate_minibatches(test_game, test_target, batch_size, shuffle=False):\n",
    "                val_xi, val_yi = test_batch\n",
    "                val_l, valid_sum = sess.run([loss, valid_summary], \n",
    "                                            feed_dict={X: val_xi, Y: val_yi, \n",
    "                                                       seq_len:true_seq_len,\n",
    "                                                       h: 2})\n",
    "\n",
    "                valid_writer.add_summary(valid_sum, valid_step)\n",
    "                valid_loss += val_l/n_val_batch\n",
    "                valid_step += printn\n",
    "            print('Epoch {0:<4d} | loss: {1:<8.2f} | time took: {2:<.2f}s '\n",
    "                  '| validation loss: {3:<8.2f}'.format(epoch, epoch_loss, (t2-t1), valid_loss))\n",
    "                \n",
    "\n",
    "t_end = time.time()\n",
    "print('Total time took: {0:<.2f}hrs'.format((time.time()-t_int)/60/60))"
   ]
  },
  {
   "cell_type": "markdown",
   "metadata": {
    "collapsed": true
   },
   "source": [
    "### Check model on train set"
   ]
  },
  {
   "cell_type": "code",
   "execution_count": 54,
   "metadata": {
    "scrolled": false
   },
   "outputs": [
    {
     "name": "stdout",
     "output_type": "stream",
     "text": [
      "rand checking index: 31 out of 33\n"
     ]
    },
    {
     "data": {
      "image/png": "[encoded data removed]",
      "text/plain": [
       "<matplotlib.figure.Figure at 0x3b17c390>"
      ]
     },
     "metadata": {},
     "output_type": "display_data"
    }
   ],
   "source": [
    "# use while loop to make sure the \n",
    "train_batches = get_minibatches(train_game, train_target, batch_size, shuffle=False)\n",
    "\n",
    "check_ind = np.random.randint(0, len(train_game)//batch_size)\n",
    "print('rand checking index: {0:} out of {1:}'.format(check_ind, len(train_game)//batch_size))\n",
    "\n",
    "input_xi, output_yi = train_batches\n",
    "y_pred = sess.run([output], feed_dict={X: input_xi[check_ind], seq_len:true_seq_len, h: 2})#, Y: train_yi, h:2})\n",
    "y_true = output_yi[check_ind]\n",
    "    \n",
    "y_pred = y_pred[0][0].reshape(-1,2)\n",
    "y_true = y_true[0].reshape(-1,2)\n",
    "\n",
    "plt.figure(figsize=(15,8))\n",
    "for k in range(0, len(y_pred)):\n",
    "    plt.plot(y_pred[:, 0][k], y_pred[:, 1][k], linestyle=\"None\", marker=\"o\", markersize=k, color='g')\n",
    "    plt.plot(y_true[:, 0][k], y_true[:, 1][k], linestyle=\"None\", marker=\"o\", markersize=k, color='b')\n",
    "\n",
    "plt.plot(y_pred[:, 0], y_pred[:, 1],'g', y_true[:,0], y_true[:,1], 'b')#, pred_train[:, 0], pred_train[:, 1])\n",
    "plt.grid(True)"
   ]
  },
  {
   "cell_type": "code",
   "execution_count": null,
   "metadata": {},
   "outputs": [],
   "source": [
    "y_pred.shape"
   ]
  },
  {
   "cell_type": "code",
   "execution_count": null,
   "metadata": {},
   "outputs": [],
   "source": [
    "y_true.shape"
   ]
  },
  {
   "cell_type": "code",
   "execution_count": null,
   "metadata": {},
   "outputs": [],
   "source": [
    "len(train_game)//batch_size"
   ]
  },
  {
   "cell_type": "markdown",
   "metadata": {},
   "source": [
    "#### Check model on test set"
   ]
  },
  {
   "cell_type": "code",
   "execution_count": 49,
   "metadata": {},
   "outputs": [
    {
     "name": "stdout",
     "output_type": "stream",
     "text": [
      "rand checking index: 4 out of 8\n"
     ]
    },
    {
     "data": {
      "image/png": "[encoded data removed]",
      "text/plain": [
       "<matplotlib.figure.Figure at 0x3e94cac8>"
      ]
     },
     "metadata": {},
     "output_type": "display_data"
    }
   ],
   "source": [
    "# use while loop to make sure the \n",
    "test_batches = get_minibatches(test_game, test_target, batch_size, shuffle=False)\n",
    "\n",
    "check_ind = np.random.randint(0, len(test_game)//batch_size)\n",
    "print('rand checking index: {0:} out of {1:}'.format(check_ind, len(test_game)//batch_size))\n",
    "\n",
    "input_xi, output_yi = test_batches\n",
    "y_pred = sess.run([output], feed_dict={X: input_xi[check_ind], seq_len:true_seq_len, h: 2})#, Y: train_yi, h:2})\n",
    "y_true = output_yi[check_ind]\n",
    "    \n",
    "y_pred = y_pred[0][0].reshape(-1,2)\n",
    "y_true = y_true[0].reshape(-1,2)\n",
    "\n",
    "plt.figure(figsize=(15,8))\n",
    "for k in range(0, len(y_pred)):\n",
    "    plt.plot(y_pred[:, 0][k], y_pred[:, 1][k], linestyle=\"None\", marker=\"o\", markersize=k, color='g')\n",
    "    plt.plot(y_true[:, 0][k], y_true[:, 1][k], linestyle=\"None\", marker=\"o\", markersize=k, color='b')\n",
    "\n",
    "plt.plot(y_pred[:, 0], y_pred[:, 1],'g', y_true[:,0], y_true[:,1], 'b')#, pred_train[:, 0], pred_train[:, 1])\n",
    "plt.grid(True)"
   ]
  },
  {
   "cell_type": "code",
   "execution_count": null,
   "metadata": {
    "collapsed": true
   },
   "outputs": [],
   "source": []
  },
  {
   "cell_type": "code",
   "execution_count": null,
   "metadata": {
    "collapsed": true
   },
   "outputs": [],
   "source": []
  },
  {
   "cell_type": "code",
   "execution_count": null,
   "metadata": {
    "collapsed": true
   },
   "outputs": [],
   "source": []
  },
  {
   "cell_type": "code",
   "execution_count": null,
   "metadata": {
    "collapsed": true
   },
   "outputs": [],
   "source": []
  },
  {
   "cell_type": "code",
   "execution_count": null,
   "metadata": {
    "collapsed": true
   },
   "outputs": [],
   "source": []
  },
  {
   "cell_type": "code",
   "execution_count": null,
   "metadata": {
    "collapsed": true
   },
   "outputs": [],
   "source": []
  },
  {
   "cell_type": "code",
   "execution_count": null,
   "metadata": {
    "collapsed": true
   },
   "outputs": [],
   "source": []
  },
  {
   "cell_type": "code",
   "execution_count": null,
   "metadata": {
    "collapsed": true
   },
   "outputs": [],
   "source": []
  },
  {
   "cell_type": "code",
   "execution_count": null,
   "metadata": {
    "collapsed": true
   },
   "outputs": [],
   "source": []
  },
  {
   "cell_type": "code",
   "execution_count": null,
   "metadata": {
    "collapsed": true
   },
   "outputs": [],
   "source": []
  },
  {
   "cell_type": "code",
   "execution_count": null,
   "metadata": {
    "collapsed": true
   },
   "outputs": [],
   "source": []
  },
  {
   "cell_type": "code",
   "execution_count": null,
   "metadata": {
    "collapsed": true
   },
   "outputs": [],
   "source": []
  },
  {
   "cell_type": "code",
   "execution_count": null,
   "metadata": {
    "collapsed": true
   },
   "outputs": [],
   "source": []
  },
  {
   "cell_type": "code",
   "execution_count": null,
   "metadata": {
    "collapsed": true
   },
   "outputs": [],
   "source": []
  },
  {
   "cell_type": "code",
   "execution_count": null,
   "metadata": {
    "collapsed": true
   },
   "outputs": [],
   "source": []
  },
  {
   "cell_type": "code",
   "execution_count": null,
   "metadata": {
    "collapsed": true
   },
   "outputs": [],
   "source": []
  },
  {
   "cell_type": "code",
   "execution_count": null,
   "metadata": {
    "collapsed": true
   },
   "outputs": [],
   "source": []
  },
  {
   "cell_type": "code",
   "execution_count": null,
   "metadata": {
    "collapsed": true
   },
   "outputs": [],
   "source": []
  },
  {
   "cell_type": "code",
   "execution_count": null,
   "metadata": {
    "collapsed": true
   },
   "outputs": [],
   "source": []
  },
  {
   "cell_type": "code",
   "execution_count": null,
   "metadata": {
    "collapsed": true
   },
   "outputs": [],
   "source": []
  },
  {
   "cell_type": "code",
   "execution_count": null,
   "metadata": {
    "collapsed": true
   },
   "outputs": [],
   "source": []
  },
  {
   "cell_type": "code",
   "execution_count": null,
   "metadata": {
    "collapsed": true
   },
   "outputs": [],
   "source": []
  },
  {
   "cell_type": "markdown",
   "metadata": {},
   "source": [
    "### To do:\n",
    "\n",
    "    - 1) Regularize the lstm\n",
    "    - 2) Figure out why there are blanks in the testing\n",
    "    - 3) may consider to collect those left out from the process of creating batches\n",
    "    - 4) related to 3), seq_len = 3 may create null batches \n",
    "\n",
    "    - Split data to defending and offending, as the model for e.g. forward role in deffending and offending should be pretty different. Remove particular events, like free-throw etc.\n",
    "    \n",
    "    - We can use the shot clock as an indicator of when the offending and defending switches.\n",
    "    \n",
    "    - The cameras oprate at 25 frames per second, so in order to learn realistic motions, either we sample the 25 frames, or extend the horizon to 50 for example or even longer(this might be too computationally heavy and model would probably drift a lot).\n",
    "    \n",
    "    - At the moment if we don't have defending or offending sepearted, at least we need to break down the sequences from the 24 secs shot clock, since it usually stands for a change in game state. (note: shot clock sometimes is None)\n",
    "    \n",
    "    - Add tensorboard visualization. Add validation performance (maybe, it would take longer). \n",
    "      tensorboard --logdir=./train_logs\n",
    "      \n",
    "    - Start thinking about 1) joint training 2) Hidden structure 3) Smooth learning\n",
    "    - from each sample to next sample theres not much change, subsample them "
   ]
  },
  {
   "cell_type": "markdown",
   "metadata": {
    "collapsed": true
   },
   "source": [
    "### Questions\n",
    "\n",
    "    * After a team scored and they go back to get ready for defense, is the going back trajectory pretty much random?\n",
    "    * Do player swap roles during the play? e.g. a forward swapped to a guard, is the forward roles a lot different from gaurds these day? (i.e. can you differentaite a player plaing forward from guard from the game) If yes, then the hidden structure learning/sequencing is necessary. "
   ]
  },
  {
   "cell_type": "code",
   "execution_count": null,
   "metadata": {
    "collapsed": true
   },
   "outputs": [],
   "source": []
  }
 ],
 "metadata": {
  "kernelspec": {
   "display_name": "Python 3",
   "language": "python",
   "name": "python3"
  },
  "language_info": {
   "codemirror_mode": {
    "name": "ipython",
    "version": 3
   },
   "file_extension": ".py",
   "mimetype": "text/x-python",
   "name": "python",
   "nbconvert_exporter": "python",
   "pygments_lexer": "ipython3",
   "version": "3.6.1"
  }
 },
 "nbformat": 4,
 "nbformat_minor": 2
}
