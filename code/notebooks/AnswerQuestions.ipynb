{
 "cells": [
  {
   "cell_type": "markdown",
   "metadata": {},
   "source": [
    "### Here we answer some realted questions by exploring the data set in details"
   ]
  },
  {
   "cell_type": "code",
   "execution_count": 40,
   "metadata": {},
   "outputs": [
    {
     "name": "stdout",
     "output_type": "stream",
     "text": [
      "The autoreload extension is already loaded. To reload it, use:\n",
      "  %reload_ext autoreload\n"
     ]
    }
   ],
   "source": [
    "import pandas as pd\n",
    "import numpy as np\n",
    "import glob, os, sys\n",
    "osp = sys.platform\n",
    "import matplotlib.pyplot as plt\n",
    "%matplotlib inline\n",
    "from utilities import LoadData\n",
    "from helpers import id_player, id_position, id_teams, get_player_trajectory, segment\n",
    "%load_ext autoreload\n",
    "%autoreload 2\n",
    "# ---------------------------------------------------------\n",
    "# directories\n",
    "main_dir = '../'\n",
    "game_dir = main_dir+'data/'\n",
    "Data = LoadData(main_dir, game_dir)"
   ]
  },
  {
   "cell_type": "markdown",
   "metadata": {},
   "source": [
    "#### How many games there are?"
   ]
  },
  {
   "cell_type": "code",
   "execution_count": 2,
   "metadata": {},
   "outputs": [
    {
     "name": "stdout",
     "output_type": "stream",
     "text": [
      "42\r\n"
     ]
    }
   ],
   "source": [
    "!find ../data/ -type f -name '*.pkl' | wc -l"
   ]
  },
  {
   "cell_type": "code",
   "execution_count": 3,
   "metadata": {},
   "outputs": [
    {
     "name": "stdout",
     "output_type": "stream",
     "text": [
      "0021500009.pkl\t0021500131.pkl\t0021500272.pkl\t0021500390.pkl\t0021500529.pkl\r\n",
      "0021500024.pkl\t0021500150.pkl\t0021500278.pkl\t0021500408.pkl\t0021500540.pkl\r\n",
      "0021500042.pkl\t0021500164.pkl\t0021500290.pkl\t0021500421.pkl\t0021500554.pkl\r\n",
      "0021500057.pkl\t0021500173.pkl\t0021500308.pkl\t0021500441.pkl\t0021500621.pkl\r\n",
      "0021500066.pkl\t0021500188.pkl\t0021500323.pkl\t0021500463.pkl\t0021500633.pkl\r\n",
      "0021500075.pkl\t0021500196.pkl\t0021500337.pkl\t0021500477.pkl\t0021500649.pkl\r\n",
      "0021500096.pkl\t0021500219.pkl\t0021500355.pkl\t0021500492.pkl\tgame0021500463\r\n",
      "0021500109.pkl\t0021500239.pkl\t0021500357.pkl\t0021500507.pkl\r\n",
      "0021500115.pkl\t0021500250.pkl\t0021500383.pkl\t0021500511.pkl\r\n"
     ]
    }
   ],
   "source": [
    "file_names = glob.glob(game_dir+'*.pkl')\n",
    "!ls ../data/"
   ]
  },
  {
   "cell_type": "markdown",
   "metadata": {},
   "source": [
    "#### Meta info: \n",
    "42 games in Fall 2015 Raptors, cameras oprate at 25 frames per second and cover the whole court throughout the game"
   ]
  },
  {
   "cell_type": "markdown",
   "metadata": {},
   "source": [
    "#### Would player get different roles or even id for some games?"
   ]
  },
  {
   "cell_type": "code",
   "execution_count": 4,
   "metadata": {},
   "outputs": [
    {
     "name": "stdout",
     "output_type": "stream",
     "text": [
      "CPU times: user 7min 49s, sys: 5.18 s, total: 7min 54s\n",
      "Wall time: 7min 50s\n"
     ]
    }
   ],
   "source": [
    "%%time\n",
    "game_ids = [i.split('/')[-1].split('.')[0] for i in file_names]\n",
    "all_events = [pd.DataFrame(Data.load_game(f)['events']) for f in game_ids]"
   ]
  },
  {
   "cell_type": "code",
   "execution_count": 5,
   "metadata": {},
   "outputs": [
    {
     "name": "stdout",
     "output_type": "stream",
     "text": [
      "CPU times: user 5.92 s, sys: 0 ns, total: 5.92 s\n",
      "Wall time: 5.93 s\n"
     ]
    }
   ],
   "source": [
    "%%time\n",
    "id_players = [id_player(i) for i in all_events]\n",
    "id_positions = [id_position(i) for i in all_events]"
   ]
  },
  {
   "cell_type": "code",
   "execution_count": 6,
   "metadata": {
    "scrolled": true
   },
   "outputs": [
    {
     "name": "stdout",
     "output_type": "stream",
     "text": [
      "Total 42 games out of which 0 has conflict.\n",
      "\n",
      "202687 Bismack Biyombo ['C-F'] ['F']\n",
      "203114 Khris Middleton ['G-F'] ['F']\n",
      "203948 Johnny O'Bryant ['F-C'] ['C']\n",
      "201162 Jared Dudley ['G-F'] ['F']\n",
      "202083 Wesley Matthews ['G'] ['G-F']\n",
      "101139 CJ Miles ['G-F'] ['F-G']\n",
      "203096 Jared Sullinger ['C-F'] ['F']\n",
      "Total 42 game out of which 7 has conflict (same player got assigned different roles).\n"
     ]
    }
   ],
   "source": [
    "# all mappings id - players\n",
    "all_id_players = {}\n",
    "n1 = 0\n",
    "for i in id_players:\n",
    "    for key, value in i.items():\n",
    "        if key not in all_id_players.keys():\n",
    "            all_id_players[key] = value\n",
    "        else:\n",
    "            if all_id_players[key] != value:\n",
    "                print(key, value)\n",
    "                n1+=1\n",
    "                all_id_players[key] += ' | ' + value\n",
    "print('Total {0:} games out of which {1:} has conflict.\\n'.format(len(id_players), n1))\n",
    "\n",
    "# all mappings id - positions            \n",
    "all_id_positions = {}\n",
    "n2 = 0\n",
    "for i in id_positions:\n",
    "    for key, value in i.items():\n",
    "        if key not in all_id_positions.keys():\n",
    "            all_id_positions[key] = value\n",
    "        else:\n",
    "            for v in value:\n",
    "                if v not in all_id_positions[key]:\n",
    "                    print(key, all_id_players[int(key)], value, all_id_positions[key])\n",
    "                    n2 += 1\n",
    "                    all_id_positions[key].append(v)\n",
    "print('Total {0:} game out of which {1:} has conflict (same player got assigned different roles).'.format(len(id_positions), n2))"
   ]
  },
  {
   "cell_type": "code",
   "execution_count": 32,
   "metadata": {
    "collapsed": true
   },
   "outputs": [],
   "source": [
    "aip_df = pd.DataFrame.from_dict(all_id_players, orient='index')\n",
    "aip_df.reset_index(inplace=True)\n",
    "# aip_df.rename()"
   ]
  },
  {
   "cell_type": "code",
   "execution_count": 36,
   "metadata": {
    "collapsed": true
   },
   "outputs": [],
   "source": [
    "aip_df = aip_df.rename(columns={'index': 'player_id', 0: 'player_name'})\n",
    "aip_df.to_csv('./meta_data/id_player.csv', index=False)"
   ]
  },
  {
   "cell_type": "code",
   "execution_count": 38,
   "metadata": {
    "collapsed": true
   },
   "outputs": [],
   "source": [
    "aip_df = pd.DataFrame.from_dict(all_id_positions, orient='index')\n",
    "aip_df.reset_index(inplace=True)"
   ]
  },
  {
   "cell_type": "code",
   "execution_count": 39,
   "metadata": {
    "collapsed": true
   },
   "outputs": [],
   "source": [
    "aip_df = aip_df.rename(columns={'index': 'player_id', 0: 'player_positions'})\n",
    "aip_df.to_csv('./meta_data/id_positions.csv', index=False)"
   ]
  },
  {
   "cell_type": "markdown",
   "metadata": {},
   "source": [
    "#### All unique roles"
   ]
  },
  {
   "cell_type": "code",
   "execution_count": 7,
   "metadata": {},
   "outputs": [
    {
     "data": {
      "text/plain": [
       "['F-C', 'G-F', 'F', 'G', 'C', 'C-F', 'F-G']"
      ]
     },
     "execution_count": 7,
     "metadata": {},
     "output_type": "execute_result"
    }
   ],
   "source": [
    "roles = list(set([j for i in list(all_id_positions.values()) for j in i]))\n",
    "roles"
   ]
  },
  {
   "cell_type": "markdown",
   "metadata": {},
   "source": [
    "#### The max and min moments length"
   ]
  },
  {
   "cell_type": "code",
   "execution_count": 16,
   "metadata": {},
   "outputs": [
    {
     "name": "stdout",
     "output_type": "stream",
     "text": [
      "max: 11370 | min: 2\n"
     ]
    }
   ],
   "source": [
    "max_moment = -1\n",
    "min_moment = 1e5\n",
    "moment_lens = []\n",
    "for i in all_events:\n",
    "    mi = i['moments'].apply(lambda x: len(x)).values\n",
    "    moment_lens+= list(mi)\n",
    "    max_i, min_i = mi.max(), mi.min()\n",
    "    if max_i > max_moment:\n",
    "        max_moment = max_i\n",
    "    if min_i < min_moment:\n",
    "        min_moment = min_i\n",
    "print('max: {0:} | min: {1:}'.format(max_moment, min_moment))"
   ]
  },
  {
   "cell_type": "code",
   "execution_count": 22,
   "metadata": {},
   "outputs": [
    {
     "data": {
      "text/plain": [
       "<matplotlib.axes._subplots.AxesSubplot at 0x7f648777dcc0>"
      ]
     },
     "execution_count": 22,
     "metadata": {},
     "output_type": "execute_result"
    },
    {
     "data": {
      "image/png": "[encoded data removed]",
      "text/plain": [
       "<Figure size 432x288 with 1 Axes>"
      ]
     },
     "metadata": {},
     "output_type": "display_data"
    }
   ],
   "source": [
    "pd.Series(np.array(moment_lens)).plot(kind='hist', bins=1000)"
   ]
  },
  {
   "cell_type": "code",
   "execution_count": 24,
   "metadata": {},
   "outputs": [
    {
     "data": {
      "text/plain": [
       "<matplotlib.axes._subplots.AxesSubplot at 0x7f647648e7f0>"
      ]
     },
     "execution_count": 24,
     "metadata": {},
     "output_type": "execute_result"
    },
    {
     "data": {
      "image/png": "[encoded data removed]",
      "text/plain": [
       "<Figure size 432x288 with 1 Axes>"
      ]
     },
     "metadata": {},
     "output_type": "display_data"
    }
   ],
   "source": [
    "pd.Series(np.array(moment_lens)).plot(kind='box')#, bins=1000)"
   ]
  },
  {
   "cell_type": "code",
   "execution_count": 43,
   "metadata": {},
   "outputs": [
    {
     "data": {
      "text/plain": [
       "{1610612737: 'Atlanta Hawks',\n",
       " 1610612738: 'Boston Celtics',\n",
       " 1610612739: 'Cleveland Cavaliers',\n",
       " 1610612740: 'New Orleans Pelicans',\n",
       " 1610612741: 'Chicago Bulls',\n",
       " 1610612742: 'Dallas Mavericks',\n",
       " 1610612743: 'Denver Nuggets',\n",
       " 1610612744: 'Golden State Warriors',\n",
       " 1610612746: 'Los Angeles Clippers',\n",
       " 1610612747: 'Los Angeles Lakers',\n",
       " 1610612748: 'Miami Heat',\n",
       " 1610612749: 'Milwaukee Bucks',\n",
       " 1610612751: 'Brooklyn Nets',\n",
       " 1610612752: 'New York Knicks',\n",
       " 1610612753: 'Orlando Magic',\n",
       " 1610612754: 'Indiana Pacers',\n",
       " 1610612755: 'Philadelphia 76ers',\n",
       " 1610612756: 'Phoenix Suns',\n",
       " 1610612758: 'Sacramento Kings',\n",
       " 1610612759: 'San Antonio Spurs',\n",
       " 1610612760: 'Oklahoma City Thunder',\n",
       " 1610612761: 'Toronto Raptors',\n",
       " 1610612762: 'Utah Jazz',\n",
       " 1610612764: 'Washington Wizards',\n",
       " 1610612766: 'Charlotte Hornets'}"
      ]
     },
     "execution_count": 43,
     "metadata": {},
     "output_type": "execute_result"
    }
   ],
   "source": [
    "id_teams(all_events)"
   ]
  },
  {
   "cell_type": "code",
   "execution_count": 44,
   "metadata": {
    "collapsed": true
   },
   "outputs": [],
   "source": [
    "aip_df = pd.DataFrame.from_dict(id_teams(all_events), orient='index')\n",
    "aip_df.reset_index(inplace=True)\n",
    "aip_df = aip_df.rename(columns={'index': 'team_id', 0: 'team_name'})\n",
    "aip_df.to_csv('./meta_data/id_team.csv', index=False)"
   ]
  },
  {
   "cell_type": "code",
   "execution_count": null,
   "metadata": {
    "collapsed": true
   },
   "outputs": [],
   "source": []
  },
  {
   "cell_type": "code",
   "execution_count": null,
   "metadata": {
    "collapsed": true
   },
   "outputs": [],
   "source": []
  },
  {
   "cell_type": "code",
   "execution_count": null,
   "metadata": {
    "collapsed": true
   },
   "outputs": [],
   "source": []
  },
  {
   "cell_type": "code",
   "execution_count": null,
   "metadata": {
    "collapsed": true
   },
   "outputs": [],
   "source": []
  },
  {
   "cell_type": "code",
   "execution_count": null,
   "metadata": {
    "collapsed": true
   },
   "outputs": [],
   "source": [
    "del all_events"
   ]
  },
  {
   "cell_type": "code",
   "execution_count": null,
   "metadata": {
    "collapsed": true
   },
   "outputs": [],
   "source": []
  },
  {
   "cell_type": "code",
   "execution_count": null,
   "metadata": {
    "collapsed": true
   },
   "outputs": [],
   "source": []
  },
  {
   "cell_type": "code",
   "execution_count": null,
   "metadata": {
    "collapsed": true
   },
   "outputs": [],
   "source": []
  },
  {
   "cell_type": "code",
   "execution_count": null,
   "metadata": {
    "collapsed": true
   },
   "outputs": [],
   "source": []
  },
  {
   "cell_type": "code",
   "execution_count": null,
   "metadata": {
    "collapsed": true
   },
   "outputs": [],
   "source": []
  },
  {
   "cell_type": "code",
   "execution_count": null,
   "metadata": {
    "collapsed": true
   },
   "outputs": [],
   "source": []
  },
  {
   "cell_type": "code",
   "execution_count": null,
   "metadata": {
    "collapsed": true
   },
   "outputs": [],
   "source": []
  },
  {
   "cell_type": "code",
   "execution_count": null,
   "metadata": {
    "collapsed": true
   },
   "outputs": [],
   "source": [
    "# first try to predict next trajectories for single player\n",
    "pid = 2200\n",
    "pid_track = pd.DataFrame(event_df['moments'].apply(lambda m: get_player_trajectory(m, pid)))\n",
    "pid_track = pid_track[pid_track.moments.apply(lambda m: len(m) != 0)]\n",
    "pid_track.reset_index(inplace=True, drop=True)\n",
    "pid_track['length'] = pid_track.moments.apply(lambda m: len(m))"
   ]
  },
  {
   "cell_type": "code",
   "execution_count": null,
   "metadata": {
    "collapsed": true
   },
   "outputs": [],
   "source": [
    "pid_track.head()"
   ]
  },
  {
   "cell_type": "code",
   "execution_count": null,
   "metadata": {
    "collapsed": true
   },
   "outputs": [],
   "source": [
    "pid_track.length.sum()/2"
   ]
  },
  {
   "cell_type": "code",
   "execution_count": null,
   "metadata": {
    "collapsed": true
   },
   "outputs": [],
   "source": [
    "train = []\n",
    "for i in range(len(pid_track)):\n",
    "    train += segment(pid_track.moments[i], length=2)\n",
    "\n",
    "train = np.array(train)"
   ]
  },
  {
   "cell_type": "code",
   "execution_count": null,
   "metadata": {
    "collapsed": true
   },
   "outputs": [],
   "source": [
    "n, m, f = train.shape\n",
    "train.shape"
   ]
  },
  {
   "cell_type": "code",
   "execution_count": null,
   "metadata": {
    "collapsed": true
   },
   "outputs": [],
   "source": [
    "# create label\n",
    "label = train[:, :, :2].reshape(n*m, 2)\n",
    "cut = n*m\n",
    "print(cut)\n",
    "if label.shape[0] %2 == 0:\n",
    "    cut -= 1\n",
    "print(cut, label.shape)\n",
    "label = label[1:cut, :].reshape((cut-1)//2, 2, 2)\n",
    "# also remove the last one in train\n",
    "train = train[:-1, :, :]\n",
    "train.shape"
   ]
  },
  {
   "cell_type": "code",
   "execution_count": null,
   "metadata": {
    "collapsed": true
   },
   "outputs": [],
   "source": [
    "# train = train.reshape(-1, 5)\n",
    "train.shape"
   ]
  },
  {
   "cell_type": "code",
   "execution_count": null,
   "metadata": {
    "collapsed": true
   },
   "outputs": [],
   "source": [
    "label.shape"
   ]
  },
  {
   "cell_type": "code",
   "execution_count": null,
   "metadata": {
    "collapsed": true
   },
   "outputs": [],
   "source": [
    "# only take the prediction of second timestep\n",
    "label = label[:, 1, :]"
   ]
  },
  {
   "cell_type": "code",
   "execution_count": null,
   "metadata": {
    "collapsed": true
   },
   "outputs": [],
   "source": [
    "label.shape"
   ]
  },
  {
   "cell_type": "code",
   "execution_count": null,
   "metadata": {
    "collapsed": true
   },
   "outputs": [],
   "source": [
    "pid_track.length.min()"
   ]
  },
  {
   "cell_type": "code",
   "execution_count": null,
   "metadata": {
    "collapsed": true
   },
   "outputs": [],
   "source": [
    "train.shape"
   ]
  },
  {
   "cell_type": "code",
   "execution_count": null,
   "metadata": {
    "collapsed": true
   },
   "outputs": [],
   "source": [
    "batch_size = 117\n",
    "timesteps = 2\n",
    "input_dim = 5\n",
    "\n",
    "model = Sequential()\n",
    "# model.add(LSTM(512 ,return_sequences=True, batch_input_shape=(batch_size, timesteps, input_dim), stateful=True))\n",
    "# model.add(LSTM(512 , return_sequences=False, stateful=True))\n",
    "model.add(LSTM(512 ,return_sequences=True, input_shape=(timesteps, input_dim)))\n",
    "model.add(LSTM(512 , return_sequences=False))\n",
    "model.add(Dense (2))\n",
    "model.add(Activation('linear'))\n",
    "model.summary()"
   ]
  },
  {
   "cell_type": "code",
   "execution_count": null,
   "metadata": {
    "collapsed": true
   },
   "outputs": [],
   "source": [
    "model.compile(loss='mse', optimizer='adagrad')\n",
    "#model.compile(loss='mse', optimizer=adagradOpt)\n",
    "# model.load_weights(model_name)\n",
    "#model.load_weights('init_weights_minibatch1024_10epochs.h5') # Load the pretrained model\n",
    "# model.reset_states()"
   ]
  },
  {
   "cell_type": "code",
   "execution_count": null,
   "metadata": {
    "collapsed": true,
    "scrolled": true
   },
   "outputs": [],
   "source": [
    "history = model.fit(train, label, epochs = 20, batch_size = batch_size, \n",
    "                    verbose = 2, shuffle = True, validation_split = 0.2)"
   ]
  },
  {
   "cell_type": "code",
   "execution_count": null,
   "metadata": {
    "collapsed": true
   },
   "outputs": [],
   "source": [
    "plt.plot(history.history[\"loss\"])\n",
    "plt.plot(history.history[\"val_loss\"])\n",
    "plt.grid('on')\n",
    "plt.title(\"model loss\")\n",
    "plt.ylabel(\"loss\")\n",
    "plt.xlabel(\"epoch\")\n",
    "plt.legend([\"train\", \"valid\"], loc = \"upper right\")\n",
    "plt.show()"
   ]
  },
  {
   "cell_type": "code",
   "execution_count": null,
   "metadata": {
    "collapsed": true
   },
   "outputs": [],
   "source": []
  },
  {
   "cell_type": "code",
   "execution_count": null,
   "metadata": {
    "collapsed": true
   },
   "outputs": [],
   "source": []
  }
 ],
 "metadata": {
  "kernelspec": {
   "display_name": "Python 3",
   "language": "python",
   "name": "python3"
  },
  "language_info": {
   "codemirror_mode": {
    "name": "ipython",
    "version": 3
   },
   "file_extension": ".py",
   "mimetype": "text/x-python",
   "name": "python",
   "nbconvert_exporter": "python",
   "pygments_lexer": "ipython3",
   "version": "3.6.4"
  }
 },
 "nbformat": 4,
 "nbformat_minor": 2
}
