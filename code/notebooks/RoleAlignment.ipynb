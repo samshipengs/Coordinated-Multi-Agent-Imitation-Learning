{
 "cells": [
  {
   "cell_type": "code",
   "execution_count": 1,
   "metadata": {},
   "outputs": [],
   "source": [
    "import pandas as pd\n",
    "import numpy as np\n",
    "import matplotlib.pyplot as plt\n",
    "import seaborn as sns\n",
    "import glob, os, sys, warnings\n",
    "from scipy.stats import multivariate_normal\n",
    "from mpl_toolkits.mplot3d import Axes3D\n",
    "\n",
    "# custom modules\n",
    "from utilities import *\n",
    "from helpers import *\n",
    "# ---------------------------------------------------------\n",
    "%matplotlib inline\n",
    "%load_ext autoreload\n",
    "%autoreload 2\n",
    "\n",
    "warnings.filterwarnings('ignore')\n",
    "# warnings.filterwarnings(action='once')\n",
    "# ---------------------------------------------------------\n",
    "# directories\n",
    "main_dir = '../'\n",
    "game_dir = main_dir+'data/'\n",
    "Data = LoadData(main_dir, game_dir)"
   ]
  },
  {
   "cell_type": "markdown",
   "metadata": {},
   "source": [
    "#### Load raw event data"
   ]
  },
  {
   "cell_type": "code",
   "execution_count": 2,
   "metadata": {},
   "outputs": [
    {
     "name": "stdout",
     "output_type": "stream",
     "text": [
      "raw events shape: (231, 8)\n"
     ]
    },
    {
     "data": {
      "text/html": [
       "<div>\n",
       "<style scoped>\n",
       "    .dataframe tbody tr th:only-of-type {\n",
       "        vertical-align: middle;\n",
       "    }\n",
       "\n",
       "    .dataframe tbody tr th {\n",
       "        vertical-align: top;\n",
       "    }\n",
       "\n",
       "    .dataframe thead th {\n",
       "        text-align: right;\n",
       "    }\n",
       "</style>\n",
       "<table border=\"1\" class=\"dataframe\">\n",
       "  <thead>\n",
       "    <tr style=\"text-align: right;\">\n",
       "      <th></th>\n",
       "      <th>end_time_left</th>\n",
       "      <th>home</th>\n",
       "      <th>moments</th>\n",
       "      <th>orig_events</th>\n",
       "      <th>playbyplay</th>\n",
       "      <th>quarter</th>\n",
       "      <th>start_time_left</th>\n",
       "      <th>visitor</th>\n",
       "    </tr>\n",
       "  </thead>\n",
       "  <tbody>\n",
       "    <tr>\n",
       "      <th>0</th>\n",
       "      <td>702.31</td>\n",
       "      <td>{'abbreviation': 'CHI', 'players': [{'playerid...</td>\n",
       "      <td>[[1, 1451351428029, 708.28, 12.78, None, [[-1,...</td>\n",
       "      <td>[0]</td>\n",
       "      <td>GAME_ID  EVENTNUM  EVENTMSGTYPE  EVENTMS...</td>\n",
       "      <td>1</td>\n",
       "      <td>708.28</td>\n",
       "      <td>{'abbreviation': 'TOR', 'players': [{'playerid...</td>\n",
       "    </tr>\n",
       "    <tr>\n",
       "      <th>1</th>\n",
       "      <td>686.28</td>\n",
       "      <td>{'abbreviation': 'CHI', 'players': [{'playerid...</td>\n",
       "      <td>[[1, 1451351428029, 708.28, 12.78, None, [[-1,...</td>\n",
       "      <td>[1]</td>\n",
       "      <td>GAME_ID  EVENTNUM  EVENTMSGTYPE  EVENTMS...</td>\n",
       "      <td>1</td>\n",
       "      <td>708.28</td>\n",
       "      <td>{'abbreviation': 'TOR', 'players': [{'playerid...</td>\n",
       "    </tr>\n",
       "  </tbody>\n",
       "</table>\n",
       "</div>"
      ],
      "text/plain": [
       "   end_time_left                                               home  \\\n",
       "0         702.31  {'abbreviation': 'CHI', 'players': [{'playerid...   \n",
       "1         686.28  {'abbreviation': 'CHI', 'players': [{'playerid...   \n",
       "\n",
       "                                             moments orig_events  \\\n",
       "0  [[1, 1451351428029, 708.28, 12.78, None, [[-1,...         [0]   \n",
       "1  [[1, 1451351428029, 708.28, 12.78, None, [[-1,...         [1]   \n",
       "\n",
       "                                          playbyplay  quarter  \\\n",
       "0        GAME_ID  EVENTNUM  EVENTMSGTYPE  EVENTMS...        1   \n",
       "1        GAME_ID  EVENTNUM  EVENTMSGTYPE  EVENTMS...        1   \n",
       "\n",
       "   start_time_left                                            visitor  \n",
       "0           708.28  {'abbreviation': 'TOR', 'players': [{'playerid...  \n",
       "1           708.28  {'abbreviation': 'TOR', 'players': [{'playerid...  "
      ]
     },
     "execution_count": 2,
     "metadata": {},
     "output_type": "execute_result"
    }
   ],
   "source": [
    "# %%time\n",
    "game_id = '0021500463'\n",
    "game_data = Data.load_game(game_id)\n",
    "events_df = pd.DataFrame(game_data['events'])\n",
    "print('raw events shape:', events_df.shape)\n",
    "events_df.head(2)"
   ]
  },
  {
   "cell_type": "markdown",
   "metadata": {},
   "source": [
    "#### Load some meta info"
   ]
  },
  {
   "cell_type": "code",
   "execution_count": 3,
   "metadata": {
    "collapsed": true
   },
   "outputs": [],
   "source": [
    "# identify defending and offending runs (this is included in process_moments)\n",
    "court_index = Data.load_csv('./meta_data/court_index.csv')\n",
    "court_index = dict(zip(court_index.game_id, court_index.court_position))\n",
    "\n",
    "# home and visitor ids\n",
    "homeid = events_df.loc[0].home['teamid']\n",
    "awayid = events_df.loc[0].visitor['teamid']"
   ]
  },
  {
   "cell_type": "code",
   "execution_count": 87,
   "metadata": {},
   "outputs": [
    {
     "data": {
      "text/plain": [
       "(38, 20)"
      ]
     },
     "execution_count": 87,
     "metadata": {},
     "output_type": "execute_result"
    }
   ],
   "source": [
    "single_game[0].shape"
   ]
  },
  {
   "cell_type": "markdown",
   "metadata": {},
   "source": [
    "#### Pre-process \n",
    "filter events, subsample frames, add velocity, reorder moments, re-arrange team order\n",
    "shot clock, filter out event with short moments"
   ]
  },
  {
   "cell_type": "code",
   "execution_count": 4,
   "metadata": {},
   "outputs": [
    {
     "name": "stdout",
     "output_type": "stream",
     "text": [
      "After filtering events has shape: (134, 8)\n",
      "Final number of events: 165\n"
     ]
    }
   ],
   "source": [
    "# filter out actions except 1: Make, 2: Miss, 4: Rebound, 6:Personal Foul, 7:Violation\n",
    "use_event = [1, 2, 4, 6, 7]\n",
    "discard_event = [3, 5, 8, 9, 10, 12, 13, 18]\n",
    "events = filter_event_type(events_df, discard_event)\n",
    "print('After filtering events has shape:', events.shape)\n",
    "# break up sequences at 24secs shot clock point (or irregular case, e.g. out of bound maybe),\n",
    "# and obtain the game data\n",
    "subsample_factor = 0\n",
    "single_game = get_game_data_ra(events, court_index, game_id, event_threshold=10, subsample_factor=subsample_factor)\n",
    "print('Final number of events:', len(single_game))\n",
    "\n"
   ]
  },
  {
   "cell_type": "markdown",
   "metadata": {},
   "source": [
    "#### Prepare data set for training HMM"
   ]
  },
  {
   "cell_type": "code",
   "execution_count": 5,
   "metadata": {},
   "outputs": [],
   "source": [
    "n_defend = 5\n",
    "n_offend = 5\n",
    "# length for each moment\n",
    "event_lengths = np.array([len(i) for i in single_game])\n",
    "# repeat the event_lengths 5 times in order to match the unstack later on with moments\n",
    "event_lengths_repeat = np.concatenate([event_lengths for _ in range(n_defend)], axis=0)\n",
    "# all the moments\n",
    "all_moments = np.concatenate(single_game, axis=0)\n",
    "# we only need the first 5 players x,y coordindates\n",
    "all_defend_moments = all_moments[:, :2*n_defend]\n",
    "all_offend_moments = all_moments[:, 2*n_offend:]\n",
    "\n",
    "all_defend_moments_ = np.concatenate([all_defend_moments[:, i:i+2] for i in range(0, 2*n_defend, 2)], axis=0)\n",
    "all_offend_moments_ = np.concatenate([all_offend_moments[:, i:i+2] for i in range(0, 2*n_offend, 2)], axis=0)"
   ]
  },
  {
   "cell_type": "code",
   "execution_count": 6,
   "metadata": {},
   "outputs": [
    {
     "data": {
      "text/plain": [
       "array([[11.15334, 21.35529],\n",
       "       [10.99227, 21.31452]])"
      ]
     },
     "execution_count": 6,
     "metadata": {},
     "output_type": "execute_result"
    }
   ],
   "source": [
    "all_defend_moments_[:2]"
   ]
  },
  {
   "cell_type": "code",
   "execution_count": 7,
   "metadata": {},
   "outputs": [
    {
     "data": {
      "text/plain": [
       "array([[24.18381, 44.21187],\n",
       "       [24.25942, 44.12444]])"
      ]
     },
     "execution_count": 7,
     "metadata": {},
     "output_type": "execute_result"
    }
   ],
   "source": [
    "all_offend_moments_[:2]"
   ]
  },
  {
   "cell_type": "markdown",
   "metadata": {},
   "source": [
    "#### Create HMM model"
   ]
  },
  {
   "cell_type": "code",
   "execution_count": 8,
   "metadata": {},
   "outputs": [],
   "source": [
    "n_comp = 7\n",
    "n_mix = None\n",
    "RA = RoleAssignment()"
   ]
  },
  {
   "cell_type": "code",
   "execution_count": 9,
   "metadata": {
    "scrolled": true
   },
   "outputs": [
    {
     "name": "stderr",
     "output_type": "stream",
     "text": [
      "         1     -764370.3961             +nan\n",
      "         2     -703428.7350      +60941.6612\n",
      "         3     -647795.5585      +55633.1764\n",
      "         4     -599464.6666      +48330.8920\n",
      "         5     -562236.4580      +37228.2086\n",
      "         6     -555454.4287       +6782.0293\n",
      "         7     -554573.3004        +881.1283\n",
      "         8     -554181.8134        +391.4870\n",
      "         9     -553973.5739        +208.2396\n",
      "        10     -553882.9054         +90.6685\n",
      "        11     -553830.5544         +52.3510\n",
      "        12     -553783.8820         +46.6724\n",
      "        13     -553745.6227         +38.2593\n",
      "        14     -553725.2137         +20.4089\n",
      "        15     -553717.3051          +7.9087\n",
      "        16     -553714.4519          +2.8532\n",
      "        17     -553713.2756          +1.1763\n",
      "        18     -553712.6772          +0.5984\n",
      "        19     -553712.2790          +0.3983\n",
      "        20     -553711.9353          +0.3436\n",
      "        21     -553711.5942          +0.3412\n",
      "        22     -553711.2710          +0.3231\n",
      "        23     -553711.0176          +0.2535\n",
      "        24     -553710.8521          +0.1655\n",
      "        25     -553710.7507          +0.1014\n",
      "        26     -553710.6848          +0.0659\n",
      "        27     -553710.6366          +0.0482\n",
      "        28     -553710.5974          +0.0392\n",
      "        29     -553710.5630          +0.0344\n",
      "        30     -553710.5316          +0.0314\n",
      "        31     -553710.5020          +0.0295\n",
      "        32     -553710.4738          +0.0283\n",
      "        33     -553710.4463          +0.0274\n",
      "        34     -553710.4193          +0.0270\n",
      "        35     -553710.3925          +0.0269\n",
      "        36     -553710.3653          +0.0271\n",
      "        37     -553710.3376          +0.0277\n",
      "        38     -553710.3089          +0.0287\n",
      "        39     -553710.2787          +0.0302\n",
      "        40     -553710.2464          +0.0323\n",
      "        41     -553710.2111          +0.0353\n",
      "        42     -553710.1718          +0.0393\n",
      "        43     -553710.1270          +0.0448\n",
      "        44     -553710.0745          +0.0525\n",
      "        45     -553710.0110          +0.0635\n",
      "        46     -553709.9319          +0.0791\n",
      "        47     -553709.8303          +0.1016\n",
      "        48     -553709.6973          +0.1330\n",
      "        49     -553709.5234          +0.1739\n",
      "        50     -553709.3053          +0.2181\n",
      "         1     -855137.7820             +nan\n",
      "         2     -789308.3767      +65829.4053\n",
      "         3     -726368.6468      +62939.7298\n",
      "         4     -672750.7586      +53617.8883\n",
      "         5     -644080.3328      +28670.4258\n",
      "         6     -631422.1341      +12658.1986\n",
      "         7     -628157.5807       +3264.5535\n",
      "         8     -626222.4180       +1935.1627\n",
      "         9     -624876.8863       +1345.5317\n",
      "        10     -623866.0243       +1010.8620\n",
      "        11     -622627.1103       +1238.9140\n",
      "        12     -621744.9260        +882.1843\n",
      "        13     -621341.7632        +403.1628\n",
      "        14     -620961.1599        +380.6033\n",
      "        15     -620754.9184        +206.2414\n",
      "        16     -620571.2442        +183.6742\n",
      "        17     -620386.8900        +184.3542\n",
      "        18     -620266.6941        +120.1959\n",
      "        19     -620181.1268         +85.5673\n",
      "        20     -620121.6578         +59.4690\n",
      "        21     -620072.5576         +49.1002\n",
      "        22     -620032.4219         +40.1357\n",
      "        23     -619993.7151         +38.7067\n",
      "        24     -619958.6778         +35.0373\n",
      "        25     -619932.2537         +26.4241\n",
      "        26     -619917.0917         +15.1620\n",
      "        27     -619907.0631         +10.0286\n",
      "        28     -619887.8174         +19.2457\n",
      "        29     -619867.9880         +19.8294\n",
      "        30     -619852.4743         +15.5138\n",
      "        31     -619838.4842         +13.9900\n",
      "        32     -619826.9011         +11.5832\n",
      "        33     -619821.7147          +5.1863\n",
      "        34     -619819.2906          +2.4241\n",
      "        35     -619818.0795          +1.2112\n",
      "        36     -619817.4350          +0.6445\n",
      "        37     -619817.0561          +0.3789\n",
      "        38     -619816.8048          +0.2513\n",
      "        39     -619816.6157          +0.1892\n",
      "        40     -619816.4536          +0.1621\n",
      "        41     -619816.2956          +0.1580\n",
      "        42     -619816.1220          +0.1737\n",
      "        43     -619815.9125          +0.2095\n",
      "        44     -619815.6492          +0.2633\n",
      "        45     -619815.3299          +0.3193\n",
      "        46     -619814.9851          +0.3448\n",
      "        47     -619814.6682          +0.3169\n",
      "        48     -619814.4195          +0.2486\n",
      "        49     -619814.2472          +0.1723\n",
      "        50     -619814.1375          +0.1097\n"
     ]
    }
   ],
   "source": [
    "defend_state_sequence_, defend_means, defend_covs, _ = RA.train_hmm(all_defend_moments_, event_lengths_repeat, n_comp, n_mix)\n",
    "offend_state_sequence_, offend_means, offend_covs, _= RA.train_hmm(all_offend_moments_, event_lengths_repeat, n_comp, n_mix)"
   ]
  },
  {
   "cell_type": "code",
   "execution_count": 17,
   "metadata": {
    "collapsed": true
   },
   "outputs": [],
   "source": [
    "_, defend_roles = RA.assign_roles(all_defend_moments_, all_defend_moments, defend_means, event_lengths)\n",
    "_, offend_roles = RA.assign_roles(all_offend_moments_, all_offend_moments, offend_means, event_lengths)"
   ]
  },
  {
   "cell_type": "code",
   "execution_count": 18,
   "metadata": {},
   "outputs": [
    {
     "data": {
      "text/plain": [
       "(38, 5)"
      ]
     },
     "execution_count": 18,
     "metadata": {},
     "output_type": "execute_result"
    }
   ],
   "source": [
    "defend_roles[0].shape"
   ]
  },
  {
   "cell_type": "code",
   "execution_count": 20,
   "metadata": {},
   "outputs": [
    {
     "data": {
      "text/plain": [
       "(105595, 2)"
      ]
     },
     "execution_count": 20,
     "metadata": {},
     "output_type": "execute_result"
    }
   ],
   "source": [
    "all_defend_moments_.shape"
   ]
  },
  {
   "cell_type": "code",
   "execution_count": 25,
   "metadata": {},
   "outputs": [
    {
     "data": {
      "text/plain": [
       "(38, 20)"
      ]
     },
     "execution_count": 25,
     "metadata": {},
     "output_type": "execute_result"
    }
   ],
   "source": [
    "single_game[0].shape"
   ]
  },
  {
   "cell_type": "code",
   "execution_count": 27,
   "metadata": {},
   "outputs": [
    {
     "data": {
      "text/plain": [
       "(38, 5)"
      ]
     },
     "execution_count": 27,
     "metadata": {},
     "output_type": "execute_result"
    }
   ],
   "source": [
    "defend_roles[0].shape"
   ]
  },
  {
   "cell_type": "code",
   "execution_count": 40,
   "metadata": {},
   "outputs": [],
   "source": [
    "# defend_roles[0]"
   ]
  },
  {
   "cell_type": "code",
   "execution_count": 30,
   "metadata": {},
   "outputs": [
    {
     "data": {
      "text/plain": [
       "array([11.15334, 21.35529, 16.79035, 20.55978,  9.12233, 39.32051,\n",
       "       21.15543, 32.71616,  8.40459, 11.67492, 24.18381, 44.21187,\n",
       "        1.06327,  2.54971,  7.28146, 48.40417, 18.1243 , 14.25539,\n",
       "       10.82794, 26.70275])"
      ]
     },
     "execution_count": 30,
     "metadata": {},
     "output_type": "execute_result"
    }
   ],
   "source": [
    "single_game[0][0]"
   ]
  },
  {
   "cell_type": "code",
   "execution_count": 34,
   "metadata": {},
   "outputs": [
    {
     "data": {
      "text/plain": [
       "array([21.35529, 16.79035, 21.15543, 20.55978,  9.12233])"
      ]
     },
     "execution_count": 34,
     "metadata": {},
     "output_type": "execute_result"
    }
   ],
   "source": [
    "single_game[0][0][list(defend_roles[0][0])]"
   ]
  },
  {
   "cell_type": "code",
   "execution_count": 58,
   "metadata": {},
   "outputs": [],
   "source": [
    "def unstack_role(role, n=5):\n",
    "    '''map the given role to the 10 index i.e. 5 players times 2 x,y coordinates\n",
    "    '''\n",
    "    repeats = np.repeat(role*2, [2]*n, axis=1).copy() # 2 for x,y coordinates\n",
    "    repeats[:, range(1, 2*n, 2)] += 1\n",
    "    return repeats\n",
    "\n",
    "\n",
    "droles = [unstack_role(i, n_defend) for i in defend_roles]\n",
    "\n",
    "# a = np.repeat(defend_roles[0]*2, [2]*n_defend, axis=1).copy() # 2 for x,y coordinates\n",
    "# a[:, range(1, 2*n_defend, 2)] += 1\n",
    "# a"
   ]
  },
  {
   "cell_type": "code",
   "execution_count": 63,
   "metadata": {},
   "outputs": [
    {
     "data": {
      "text/plain": [
       "array([0., 0., 0., 0., 0., 0., 0., 0., 0., 0., 0., 0., 0., 0.])"
      ]
     },
     "execution_count": 63,
     "metadata": {},
     "output_type": "execute_result"
    }
   ],
   "source": [
    "a = np.zeros(14)\n",
    "a"
   ]
  },
  {
   "cell_type": "code",
   "execution_count": 65,
   "metadata": {},
   "outputs": [
    {
     "data": {
      "text/plain": [
       "array([ 2,  3,  4,  5, 12, 13,  6,  7,  8,  9], dtype=int64)"
      ]
     },
     "execution_count": 65,
     "metadata": {},
     "output_type": "execute_result"
    }
   ],
   "source": [
    "droles[0][0]"
   ]
  },
  {
   "cell_type": "code",
   "execution_count": 74,
   "metadata": {},
   "outputs": [],
   "source": [
    "ro_single_game = []\n",
    "for i in range(len(single_game)):\n",
    "    ro_i = []\n",
    "    for j in range(len(single_game[i])):\n",
    "        slots = np.zeros(2*n_comp)\n",
    "        for k, v in enumerate(droles[i][j]):\n",
    "            slots[v] = single_game[i][j][k]\n",
    "        ro_i.append(slots)\n",
    "    ro_single_game.append(np.array(ro_i))"
   ]
  },
  {
   "cell_type": "code",
   "execution_count": 75,
   "metadata": {},
   "outputs": [
    {
     "data": {
      "text/plain": [
       "165"
      ]
     },
     "execution_count": 75,
     "metadata": {},
     "output_type": "execute_result"
    }
   ],
   "source": [
    "len(ro_single_game)"
   ]
  },
  {
   "cell_type": "code",
   "execution_count": 76,
   "metadata": {},
   "outputs": [
    {
     "data": {
      "text/plain": [
       "(38, 14)"
      ]
     },
     "execution_count": 76,
     "metadata": {},
     "output_type": "execute_result"
    }
   ],
   "source": [
    "ro_single_game[0].shape"
   ]
  },
  {
   "cell_type": "code",
   "execution_count": 81,
   "metadata": {},
   "outputs": [
    {
     "data": {
      "text/plain": [
       "(20,)"
      ]
     },
     "execution_count": 81,
     "metadata": {},
     "output_type": "execute_result"
    }
   ],
   "source": [
    "single_game[0][0].shape"
   ]
  },
  {
   "cell_type": "code",
   "execution_count": 72,
   "metadata": {},
   "outputs": [
    {
     "data": {
      "text/plain": [
       "array([1, 2, 6, 3, 4], dtype=int64)"
      ]
     },
     "execution_count": 72,
     "metadata": {},
     "output_type": "execute_result"
    }
   ],
   "source": [
    "defend_roles[0][0]"
   ]
  },
  {
   "cell_type": "code",
   "execution_count": 80,
   "metadata": {},
   "outputs": [
    {
     "data": {
      "text/plain": [
       "array([ 0.     ,  0.     , 11.15334, 21.35529, 16.79035, 20.55978,\n",
       "       21.15543, 32.71616,  8.40459, 11.67492,  0.     ,  0.     ,\n",
       "        9.12233, 39.32051])"
      ]
     },
     "execution_count": 80,
     "metadata": {},
     "output_type": "execute_result"
    }
   ],
   "source": [
    "order_moment_ra(single_game, defend_roles)[0][0]"
   ]
  },
  {
   "cell_type": "code",
   "execution_count": 84,
   "metadata": {},
   "outputs": [
    {
     "data": {
      "text/plain": [
       "(38,)"
      ]
     },
     "execution_count": 84,
     "metadata": {},
     "output_type": "execute_result"
    }
   ],
   "source": [
    "[i[:, 10] for i in single_game][0].shape"
   ]
  },
  {
   "cell_type": "code",
   "execution_count": null,
   "metadata": {
    "collapsed": true
   },
   "outputs": [],
   "source": []
  },
  {
   "cell_type": "code",
   "execution_count": 85,
   "metadata": {},
   "outputs": [
    {
     "data": {
      "text/plain": [
       "array([ 0.     ,  0.     , 11.15334, 21.35529, 16.79035, 20.55978,\n",
       "       21.15543, 32.71616,  8.40459, 11.67492,  0.     ,  0.     ,\n",
       "        9.12233, 39.32051])"
      ]
     },
     "execution_count": 85,
     "metadata": {},
     "output_type": "execute_result"
    }
   ],
   "source": [
    "order_moment_ra([i[:, :10] for i in single_game], defend_roles)[0][0]"
   ]
  },
  {
   "cell_type": "code",
   "execution_count": 86,
   "metadata": {},
   "outputs": [
    {
     "data": {
      "text/plain": [
       "array([ 0.     ,  0.     , 10.82794, 26.70275,  0.     ,  0.     ,\n",
       "        7.28146, 48.40417, 24.18381, 44.21187,  1.06327,  2.54971,\n",
       "       18.1243 , 14.25539])"
      ]
     },
     "execution_count": 86,
     "metadata": {},
     "output_type": "execute_result"
    }
   ],
   "source": [
    "order_moment_ra([i[:, 10:] for i in single_game], offend_roles)[0][0]"
   ]
  },
  {
   "cell_type": "code",
   "execution_count": null,
   "metadata": {
    "collapsed": true
   },
   "outputs": [],
   "source": []
  },
  {
   "cell_type": "code",
   "execution_count": null,
   "metadata": {
    "collapsed": true
   },
   "outputs": [],
   "source": []
  },
  {
   "cell_type": "code",
   "execution_count": null,
   "metadata": {
    "collapsed": true
   },
   "outputs": [],
   "source": []
  },
  {
   "cell_type": "code",
   "execution_count": 60,
   "metadata": {},
   "outputs": [
    {
     "data": {
      "text/plain": [
       "array([[ 2,  2,  4,  4, 12, 12,  6,  6,  8,  8],\n",
       "       [ 2,  2,  4,  4, 12, 12,  6,  6,  8,  8],\n",
       "       [ 2,  2,  4,  4, 12, 12,  6,  6,  8,  8],\n",
       "       [ 2,  2,  4,  4, 12, 12,  6,  6,  8,  8],\n",
       "       [ 2,  2,  4,  4, 12, 12,  6,  6,  8,  8],\n",
       "       [ 2,  2,  4,  4, 12, 12,  6,  6,  8,  8],\n",
       "       [ 2,  2,  4,  4, 12, 12,  6,  6,  8,  8],\n",
       "       [ 2,  2,  4,  4, 12, 12,  6,  6,  8,  8],\n",
       "       [ 2,  2,  4,  4, 12, 12,  6,  6,  8,  8],\n",
       "       [ 2,  2,  4,  4, 12, 12,  6,  6,  8,  8],\n",
       "       [ 2,  2,  4,  4, 12, 12,  6,  6,  8,  8],\n",
       "       [ 2,  2,  4,  4, 12, 12,  6,  6,  8,  8],\n",
       "       [ 2,  2,  4,  4, 12, 12,  6,  6,  8,  8],\n",
       "       [ 2,  2,  4,  4, 12, 12,  6,  6,  8,  8],\n",
       "       [ 2,  2,  4,  4, 12, 12,  6,  6,  8,  8],\n",
       "       [ 2,  2,  4,  4, 12, 12,  6,  6,  8,  8],\n",
       "       [ 2,  2,  4,  4, 12, 12,  6,  6,  8,  8],\n",
       "       [ 2,  2,  4,  4, 12, 12,  6,  6,  8,  8],\n",
       "       [ 2,  2,  4,  4, 12, 12,  6,  6,  8,  8],\n",
       "       [ 2,  2,  4,  4, 12, 12, 10, 10,  8,  8],\n",
       "       [ 2,  2,  4,  4, 12, 12, 10, 10,  8,  8],\n",
       "       [ 2,  2,  4,  4, 12, 12, 10, 10,  8,  8],\n",
       "       [ 2,  2,  4,  4, 12, 12, 10, 10,  8,  8],\n",
       "       [ 2,  2,  4,  4, 12, 12, 10, 10,  8,  8],\n",
       "       [ 2,  2,  4,  4, 12, 12, 10, 10,  8,  8],\n",
       "       [ 2,  2,  4,  4, 12, 12, 10, 10,  8,  8],\n",
       "       [ 2,  2,  4,  4, 12, 12, 10, 10,  8,  8],\n",
       "       [ 2,  2,  4,  4, 12, 12, 10, 10,  8,  8],\n",
       "       [ 2,  2,  4,  4, 12, 12, 10, 10,  8,  8],\n",
       "       [ 2,  2,  4,  4, 12, 12, 10, 10,  8,  8],\n",
       "       [ 2,  2,  4,  4, 12, 12, 10, 10,  8,  8],\n",
       "       [ 2,  2,  4,  4, 12, 12, 10, 10,  8,  8],\n",
       "       [ 2,  2,  4,  4, 12, 12, 10, 10,  8,  8],\n",
       "       [ 2,  2,  4,  4, 12, 12, 10, 10,  8,  8],\n",
       "       [ 2,  2,  4,  4, 12, 12, 10, 10,  8,  8],\n",
       "       [ 2,  2,  4,  4, 12, 12, 10, 10,  8,  8],\n",
       "       [ 2,  2,  4,  4, 12, 12, 10, 10,  8,  8],\n",
       "       [ 2,  2,  4,  4, 12, 12, 10, 10,  8,  8]], dtype=int64)"
      ]
     },
     "execution_count": 60,
     "metadata": {},
     "output_type": "execute_result"
    }
   ],
   "source": [
    "a = np.repeat(defend_roles[0]*2, [2]*n_defend, axis=1).copy() # 2 for x,y coordinates\n",
    "a"
   ]
  },
  {
   "cell_type": "code",
   "execution_count": null,
   "metadata": {
    "collapsed": true
   },
   "outputs": [],
   "source": []
  },
  {
   "cell_type": "markdown",
   "metadata": {},
   "source": [
    "#### Vis"
   ]
  },
  {
   "cell_type": "code",
   "execution_count": 11,
   "metadata": {},
   "outputs": [
    {
     "data": {
      "image/png": "[encoded data removed]",
      "text/plain": [
       "<matplotlib.figure.Figure at 0x1f375898>"
      ]
     },
     "metadata": {},
     "output_type": "display_data"
    }
   ],
   "source": [
    "EmissionVis(n_comp, defend_means, defend_covs).plot()"
   ]
  },
  {
   "cell_type": "code",
   "execution_count": 12,
   "metadata": {},
   "outputs": [
    {
     "data": {
      "image/png": "[encoded data removed]",
      "text/plain": [
       "<matplotlib.figure.Figure at 0x219e0be0>"
      ]
     },
     "metadata": {},
     "output_type": "display_data"
    }
   ],
   "source": [
    "EmissionVis(n_comp, offend_means, offend_covs).plot()"
   ]
  },
  {
   "cell_type": "markdown",
   "metadata": {},
   "source": [
    "---"
   ]
  },
  {
   "cell_type": "markdown",
   "metadata": {},
   "source": [
    "### Next: try using the predefined position as indexing mechanism for the imitation learning"
   ]
  },
  {
   "cell_type": "markdown",
   "metadata": {},
   "source": [
    "Questions:\n",
    "\n",
    "  - Is the latent structure learning trained for each individual agent or their sequences are put together?"
   ]
  },
  {
   "cell_type": "code",
   "execution_count": null,
   "metadata": {
    "collapsed": true
   },
   "outputs": [],
   "source": []
  },
  {
   "cell_type": "code",
   "execution_count": null,
   "metadata": {
    "collapsed": true
   },
   "outputs": [],
   "source": []
  },
  {
   "cell_type": "code",
   "execution_count": null,
   "metadata": {
    "collapsed": true
   },
   "outputs": [],
   "source": []
  }
 ],
 "metadata": {
  "kernelspec": {
   "display_name": "Python 3",
   "language": "python",
   "name": "python3"
  },
  "language_info": {
   "codemirror_mode": {
    "name": "ipython",
    "version": 3
   },
   "file_extension": ".py",
   "mimetype": "text/x-python",
   "name": "python",
   "nbconvert_exporter": "python",
   "pygments_lexer": "ipython3",
   "version": "3.6.1"
  }
 },
 "nbformat": 4,
 "nbformat_minor": 2
}
